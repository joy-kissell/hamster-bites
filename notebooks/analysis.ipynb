{
 "cells": [
  {
   "cell_type": "code",
   "execution_count": 3,
   "id": "e53e3029-8dbe-4822-bb73-27be17df8948",
   "metadata": {},
   "outputs": [],
   "source": [
    "import pandas as pd\n",
    "import matplotlib.pyplot as plt\n",
    "import seaborn as sns\n",
    "import plotly.express as px\n",
    "import plotly.graph_objects as go\n",
    "from plotly.subplots import make_subplots\n",
    "\n",
    "plt.style.use('seaborn-v0_8')\n",
    "sns.set_palette(\"husl\")\n",
    "\n",
    "# Display all columns\n",
    "pd.set_option('display.max_columns', None)"
   ]
  },
  {
   "cell_type": "code",
   "execution_count": 4,
   "id": "c1af1c2a-00f5-4a8c-a67a-c79b443e3b52",
   "metadata": {},
   "outputs": [
    {
     "name": "stdout",
     "output_type": "stream",
     "text": [
      "Dataset shape: (131, 5)\n",
      "\n",
      "Data types:\n",
      "food             object\n",
      "type             object\n",
      "safe               bool\n",
      "controversial      bool\n",
      "notes            object\n",
      "dtype: object\n",
      "\n",
      "First entries:\n"
     ]
    },
    {
     "data": {
      "text/html": [
       "<div>\n",
       "<style scoped>\n",
       "    .dataframe tbody tr th:only-of-type {\n",
       "        vertical-align: middle;\n",
       "    }\n",
       "\n",
       "    .dataframe tbody tr th {\n",
       "        vertical-align: top;\n",
       "    }\n",
       "\n",
       "    .dataframe thead th {\n",
       "        text-align: right;\n",
       "    }\n",
       "</style>\n",
       "<table border=\"1\" class=\"dataframe\">\n",
       "  <thead>\n",
       "    <tr style=\"text-align: right;\">\n",
       "      <th></th>\n",
       "      <th>food</th>\n",
       "      <th>type</th>\n",
       "      <th>safe</th>\n",
       "      <th>controversial</th>\n",
       "      <th>notes</th>\n",
       "    </tr>\n",
       "  </thead>\n",
       "  <tbody>\n",
       "    <tr>\n",
       "      <th>0</th>\n",
       "      <td>Acai</td>\n",
       "      <td>Fruits</td>\n",
       "      <td>True</td>\n",
       "      <td>False</td>\n",
       "      <td>prepared any way</td>\n",
       "    </tr>\n",
       "    <tr>\n",
       "      <th>1</th>\n",
       "      <td>Apple</td>\n",
       "      <td>Fruits</td>\n",
       "      <td>True</td>\n",
       "      <td>False</td>\n",
       "      <td>prepared any way</td>\n",
       "    </tr>\n",
       "    <tr>\n",
       "      <th>2</th>\n",
       "      <td>Apricot</td>\n",
       "      <td>Fruits</td>\n",
       "      <td>True</td>\n",
       "      <td>False</td>\n",
       "      <td>prepared any way</td>\n",
       "    </tr>\n",
       "    <tr>\n",
       "      <th>3</th>\n",
       "      <td>Banana</td>\n",
       "      <td>Fruits</td>\n",
       "      <td>True</td>\n",
       "      <td>False</td>\n",
       "      <td>prepared any way</td>\n",
       "    </tr>\n",
       "    <tr>\n",
       "      <th>4</th>\n",
       "      <td>Blueberry</td>\n",
       "      <td>Fruits</td>\n",
       "      <td>True</td>\n",
       "      <td>False</td>\n",
       "      <td>prepared any way</td>\n",
       "    </tr>\n",
       "  </tbody>\n",
       "</table>\n",
       "</div>"
      ],
      "text/plain": [
       "        food    type  safe  controversial             notes\n",
       "0       Acai  Fruits  True          False  prepared any way\n",
       "1      Apple  Fruits  True          False  prepared any way\n",
       "2    Apricot  Fruits  True          False  prepared any way\n",
       "3     Banana  Fruits  True          False  prepared any way\n",
       "4  Blueberry  Fruits  True          False  prepared any way"
      ]
     },
     "execution_count": 4,
     "metadata": {},
     "output_type": "execute_result"
    }
   ],
   "source": [
    "df = pd.read_csv('../data/clean_hamster_foods.csv')\n",
    "#key info\n",
    "print(f\"Dataset shape: {df.shape}\")\n",
    "print(f\"\\nData types:\")\n",
    "print(df.dtypes)\n",
    "print(f\"\\nFirst entries:\")\n",
    "df.head()"
   ]
  },
  {
   "cell_type": "code",
   "execution_count": 18,
   "id": "a5d609b8-678f-4fa9-ace6-bbc9370e5a61",
   "metadata": {},
   "outputs": [
    {
     "name": "stdout",
     "output_type": "stream",
     "text": [
      "=== Hamster Bites Quick Stats ===\n",
      "\n",
      "Total foods in database: 131\n",
      "Safe foods: 124 (94.7%)\n",
      "Dangerous foods: 7 (5.3%)\n",
      "Controversial foods: 15 (11.5%)\n",
      "Food Types: type\n",
      "Vegetables             43\n",
      "Fruits                 39\n",
      "Miscellaneous Foods    35\n",
      "Proteins               14\n",
      "Name: count, dtype: int64\n",
      "Type with most controversial foods: Miscellaneous Foods\n",
      "Type with most dangerous foods: Vegetables\n"
     ]
    }
   ],
   "source": [
    "#Basic Statistics\n",
    "print(\"=== Hamster Bites Quick Stats ===\\n\")\n",
    "print(f\"Total foods in database: {len(df)}\")\n",
    "print(f\"Safe foods: {df['safe'].sum()} ({df['safe'].mean()*100:.1f}%)\")\n",
    "print(f\"Dangerous foods: {(~df['safe']).sum()} ({(~df['safe']).mean()*100:.1f}%)\")\n",
    "print(f\"Controversial foods: {df['controversial'].sum()} ({df['controversial'].mean()*100:.1f}%)\")\n",
    "print(f\"Food Types: {df['type'].value_counts()}\")\n",
    "print(f\"Type with most controversial foods: {df.groupby('type')['controversial'].sum().idxmax()}\")\n",
    "print(f\"Type with most dangerous foods: {df[~df['safe']]['type'].value_counts().index[0]}\")"
   ]
  },
  {
   "cell_type": "code",
   "execution_count": 16,
   "id": "08d4def5-2763-4c65-a821-320c88d504a6",
   "metadata": {},
   "outputs": [
    {
     "data": {
      "application/vnd.plotly.v1+json": {
       "config": {
        "plotlyServerURL": "https://plot.ly"
       },
       "data": [
        {
         "hovertemplate": "%{hovertext}<extra></extra>",
         "hovertext": [
          "Food: Acai <br> Safe: True<br>Controversial: False<br>Notes: prepared any way",
          "Food: Apple <br> Safe: True<br>Controversial: False<br>Notes: prepared any way",
          "Food: Apricot <br> Safe: True<br>Controversial: False<br>Notes: prepared any way",
          "Food: Banana <br> Safe: True<br>Controversial: False<br>Notes: prepared any way",
          "Food: Blueberry <br> Safe: True<br>Controversial: False<br>Notes: prepared any way",
          "Food: Blackberry <br> Safe: True<br>Controversial: False<br>Notes: prepared any way",
          "Food: Boysenberry <br> Safe: True<br>Controversial: False<br>Notes: prepared any way",
          "Food: Cantaloupe <br> Safe: True<br>Controversial: False<br>Notes: prepared any way",
          "Food: Cherry <br> Safe: True<br>Controversial: False<br>Notes: without pip",
          "Food: Cranberry <br> Safe: True<br>Controversial: False<br>Notes: prepared any way",
          "Food: Currant <br> Safe: True<br>Controversial: False<br>Notes: prepared any way",
          "Food: Date <br> Safe: True<br>Controversial: False<br>Notes: prepared any way",
          "Food: Elderberry <br> Safe: True<br>Controversial: False<br>Notes: prepared any way",
          "Food: Fig <br> Safe: True<br>Controversial: False<br>Notes: prepared any way",
          "Food: Gooseberry <br> Safe: True<br>Controversial: False<br>Notes: prepared any way",
          "Food: Grape <br> Safe: True<br>Controversial: True<br>Notes: prepared any way",
          "Food: Guava <br> Safe: True<br>Controversial: False<br>Notes: prepared any way",
          "Food: Honeydew melon <br> Safe: True<br>Controversial: False<br>Notes: prepared any way",
          "Food: Kiwis <br> Safe: True<br>Controversial: False<br>Notes: prepared any way",
          "Food: Kumquat <br> Safe: True<br>Controversial: False<br>Notes: prepared any way",
          "Food: Lychee <br> Safe: True<br>Controversial: False<br>Notes: prepared any way",
          "Food: Mango <br> Safe: True<br>Controversial: False<br>Notes: prepared any way",
          "Food: Nectarine <br> Safe: True<br>Controversial: False<br>Notes: prepared any way",
          "Food: Papaya <br> Safe: True<br>Controversial: False<br>Notes: prepared any way",
          "Food: Passion fruit <br> Safe: True<br>Controversial: False<br>Notes: prepared any way",
          "Food: Peache <br> Safe: True<br>Controversial: False<br>Notes: prepared any way",
          "Food: Pear <br> Safe: True<br>Controversial: False<br>Notes: prepared any way",
          "Food: Pineapple <br> Safe: True<br>Controversial: False<br>Notes: prepared any way",
          "Food: Plum <br> Safe: True<br>Controversial: False<br>Notes: prepared any way",
          "Food: Pomegranate <br> Safe: True<br>Controversial: False<br>Notes: prepared any way",
          "Food: Raspberry <br> Safe: True<br>Controversial: False<br>Notes: prepared any way",
          "Food: Starfruit <br> Safe: True<br>Controversial: False<br>Notes: prepared any way",
          "Food: Strawberry <br> Safe: True<br>Controversial: False<br>Notes: prepared any way",
          "Food: Watermelon <br> Safe: True<br>Controversial: False<br>Notes: prepared any way",
          "Food: Amaranth <br> Safe: True<br>Controversial: False<br>Notes: prepared any way",
          "Food: Arrugula <br> Safe: True<br>Controversial: False<br>Notes: prepared any way",
          "Food: Artichoke <br> Safe: True<br>Controversial: False<br>Notes: prepared any way",
          "Food: Asparagus <br> Safe: True<br>Controversial: False<br>Notes: prepared any way",
          "Food: Basil <br> Safe: True<br>Controversial: False<br>Notes: prepared any way",
          "Food: Bean <br> Safe: True<br>Controversial: False<br>Notes: prepared any way",
          "Food: Beet <br> Safe: True<br>Controversial: False<br>Notes: prepared any way",
          "Food: Bok Choy <br> Safe: True<br>Controversial: False<br>Notes: prepared any way",
          "Food: Broccoli <br> Safe: True<br>Controversial: False<br>Notes: prepared any way",
          "Food: Brussels sprout <br> Safe: True<br>Controversial: False<br>Notes: prepared any way",
          "Food: Cabbage <br> Safe: True<br>Controversial: False<br>Notes: prepared any way",
          "Food: Carrot <br> Safe: True<br>Controversial: False<br>Notes: prepared any way",
          "Food: Cauliflower <br> Safe: True<br>Controversial: False<br>Notes: prepared any way",
          "Food: Celery <br> Safe: True<br>Controversial: False<br>Notes: prepared any way",
          "Food: Collard <br> Safe: True<br>Controversial: False<br>Notes: prepared any way",
          "Food: Corn <br> Safe: True<br>Controversial: False<br>Notes: prepared any way",
          "Food: Cucumber <br> Safe: True<br>Controversial: True<br>Notes: prepared any way",
          "Food: Dandelion <br> Safe: True<br>Controversial: False<br>Notes: prepared any way",
          "Food: Dill <br> Safe: True<br>Controversial: False<br>Notes: prepared any way",
          "Food: Fennel <br> Safe: True<br>Controversial: False<br>Notes: prepared any way",
          "Food: Ginger <br> Safe: True<br>Controversial: False<br>Notes: prepared any way",
          "Food: Kale <br> Safe: True<br>Controversial: False<br>Notes: prepared any way",
          "Food: Mushroom <br> Safe: True<br>Controversial: False<br>Notes: prepared any way",
          "Food: Parsley <br> Safe: True<br>Controversial: False<br>Notes: prepared any way",
          "Food: Parsnip <br> Safe: True<br>Controversial: False<br>Notes: prepared any way",
          "Food: Pea <br> Safe: True<br>Controversial: False<br>Notes: prepared any way",
          "Food: Pepper <br> Safe: True<br>Controversial: False<br>Notes: Bell",
          "Food: Potato <br> Safe: True<br>Controversial: False<br>Notes: Cooked!",
          "Food: Pumpkin <br> Safe: True<br>Controversial: False<br>Notes: prepared any way",
          "Food: Radicchio <br> Safe: True<br>Controversial: False<br>Notes: prepared any way",
          "Food: Romaine Lettuce <br> Safe: True<br>Controversial: False<br>Notes: prepared any way",
          "Food: Soybean <br> Safe: True<br>Controversial: False<br>Notes: prepared any way",
          "Food: Spinach <br> Safe: True<br>Controversial: False<br>Notes: prepared any way",
          "Food: Squash <br> Safe: True<br>Controversial: False<br>Notes: prepared any way",
          "Food: Sweet Potato <br> Safe: True<br>Controversial: False<br>Notes: Cooked",
          "Food: Swiss Chard <br> Safe: True<br>Controversial: False<br>Notes: prepared any way",
          "Food: Tomato <br> Safe: True<br>Controversial: True<br>Notes: Ripe, No Leaves/Stem",
          "Food: Zucchini/Courgette <br> Safe: True<br>Controversial: False<br>Notes: prepared any way",
          "Food: Chicken <br> Safe: True<br>Controversial: False<br>Notes: prepared any way",
          "Food: Cheese <br> Safe: True<br>Controversial: False<br>Notes: Cheddar, Swiss, Marble, Parmesan, etc.",
          "Food: Cottage Cheese <br> Safe: True<br>Controversial: False<br>Notes: prepared any way",
          "Food: Cricket <br> Safe: True<br>Controversial: False<br>Notes: prepared any way",
          "Food: Egg <br> Safe: True<br>Controversial: False<br>Notes: prepared any way",
          "Food: Grasshopper <br> Safe: True<br>Controversial: False<br>Notes: prepared any way",
          "Food: Lean Ground Beef <br> Safe: True<br>Controversial: False<br>Notes: prepared any way",
          "Food: Mealworm <br> Safe: True<br>Controversial: False<br>Notes: prepared any way",
          "Food: Salmon <br> Safe: True<br>Controversial: False<br>Notes: prepared any way",
          "Food: Tofu <br> Safe: True<br>Controversial: False<br>Notes: prepared any way",
          "Food: Turkey <br> Safe: True<br>Controversial: False<br>Notes: prepared any way",
          "Food: Yoghurt <br> Safe: True<br>Controversial: False<br>Notes: prepared any way",
          "Food: Almond <br> Safe: True<br>Controversial: True<br>Notes: prepared any way",
          "Food: Barley <br> Safe: True<br>Controversial: False<br>Notes: prepared any way",
          "Food: Black Eyed Pea <br> Safe: True<br>Controversial: False<br>Notes: prepared any way",
          "Food: Black Turtle Bean <br> Safe: True<br>Controversial: False<br>Notes: prepared any way",
          "Food: Buckwheat <br> Safe: True<br>Controversial: False<br>Notes: prepared any way",
          "Food: Bulgar Wheat <br> Safe: True<br>Controversial: False<br>Notes: prepared any way",
          "Food: Chickpea <br> Safe: True<br>Controversial: False<br>Notes: Garbonzo Beans",
          "Food: Chia Seed <br> Safe: True<br>Controversial: False<br>Notes: prepared any way",
          "Food: Couscous <br> Safe: True<br>Controversial: False<br>Notes: prepared any way",
          "Food: Farro <br> Safe: True<br>Controversial: False<br>Notes: prepared any way",
          "Food: Flax Seed <br> Safe: True<br>Controversial: False<br>Notes: prepared any way",
          "Food: Hemp Heart <br> Safe: True<br>Controversial: False<br>Notes: prepared any way",
          "Food: Lentil <br> Safe: True<br>Controversial: False<br>Notes: prepared any way",
          "Food: Millet <br> Safe: True<br>Controversial: False<br>Notes: prepared any way",
          "Food: Mung Bean <br> Safe: True<br>Controversial: False<br>Notes: prepared any way",
          "Food: Nutritional Yeast <br> Safe: True<br>Controversial: False<br>Notes: prepared any way",
          "Food: Oat Flake <br> Safe: True<br>Controversial: False<br>Notes: prepared any way",
          "Food: Pasta <br> Safe: True<br>Controversial: False<br>Notes: cooked and dry",
          "Food: Peanut <br> Safe: True<br>Controversial: False<br>Notes: prepared any way",
          "Food: Popped Corn <br> Safe: True<br>Controversial: False<br>Notes: prepared any way",
          "Food: Pumpkin Seed <br> Safe: True<br>Controversial: False<br>Notes: prepared any way",
          "Food: Quinoa <br> Safe: True<br>Controversial: False<br>Notes: prepared any way",
          "Food: Rice <br> Safe: True<br>Controversial: False<br>Notes: cooked and dry",
          "Food: Rye Flake <br> Safe: True<br>Controversial: False<br>Notes: prepared any way",
          "Food: Sesame Seed <br> Safe: True<br>Controversial: False<br>Notes: prepared any way",
          "Food: Split Pea <br> Safe: True<br>Controversial: False<br>Notes: prepared any way",
          "Food: Sunflower Seed <br> Safe: True<br>Controversial: False<br>Notes: prepared any way",
          "Food: Walnut <br> Safe: True<br>Controversial: False<br>Notes: prepared any way",
          "Food: Wheat Germ <br> Safe: True<br>Controversial: False<br>Notes: prepared any way",
          "Food: Blue Cheese, and other soft or mouldy cheese <br> Safe: False<br>Controversial: False<br>Notes: prepared any way",
          "Food: Chili Pepper <br> Safe: False<br>Controversial: False<br>Notes: or any hot pepper",
          "Food: Eggplant/Aubergine <br> Safe: False<br>Controversial: False<br>Notes: prepared any way",
          "Food: Kidney Bean <br> Safe: False<br>Controversial: False<br>Notes: uncooked",
          "Food: Packaged Meat <br> Safe: False<br>Controversial: False<br>Notes: ie. deli meats, sandwich meats",
          "Food: Raw, Green Potato <br> Safe: False<br>Controversial: False<br>Notes: prepared any way",
          "Food: Rhubarb Leave <br> Safe: False<br>Controversial: False<br>Notes: prepared any way",
          "Food: Avocado <br> Safe: True<br>Controversial: True<br>Notes: prepared any way",
          "Food: Chocolate <br> Safe: True<br>Controversial: True<br>Notes: prepared any way",
          "Food: Citrus Fruit <br> Safe: True<br>Controversial: True<br>Notes: prepared any way",
          "Food: Coriander/Cilantro/Mint <br> Safe: True<br>Controversial: True<br>Notes: prepared any way",
          "Food: Dairy Product <br> Safe: True<br>Controversial: True<br>Notes: prepared any way",
          "Food: Garlic <br> Safe: True<br>Controversial: True<br>Notes: prepared any way",
          "Food: Leek <br> Safe: True<br>Controversial: True<br>Notes: prepared any way",
          "Food: Onion <br> Safe: True<br>Controversial: True<br>Notes: prepared any way",
          "Food: Peanut Butter <br> Safe: True<br>Controversial: True<br>Notes: prepared any way",
          "Food: Raisin <br> Safe: True<br>Controversial: True<br>Notes: prepared any way",
          "Food: Watermelon <br> Safe: True<br>Controversial: True<br>Notes: prepared any way"
         ],
         "ids": [
          "Fruits",
          "Vegetables",
          "Proteins",
          "Miscellaneous Foods",
          "Acai",
          "Apple",
          "Apricot",
          "Banana",
          "Blueberry",
          "Blackberry",
          "Boysenberry",
          "Cantaloupe",
          "Cherry",
          "Cranberry",
          "Currant",
          "Date",
          "Elderberry",
          "Fig",
          "Gooseberry",
          "Grape",
          "Guava",
          "Honeydew melon",
          "Kiwis",
          "Kumquat",
          "Lychee",
          "Mango",
          "Nectarine",
          "Papaya",
          "Passion fruit",
          "Peache",
          "Pear",
          "Pineapple",
          "Plum",
          "Pomegranate",
          "Raspberry",
          "Starfruit",
          "Strawberry",
          "Watermelon",
          "Amaranth",
          "Arrugula",
          "Artichoke",
          "Asparagus",
          "Basil",
          "Bean",
          "Beet",
          "Bok Choy",
          "Broccoli",
          "Brussels sprout",
          "Cabbage",
          "Carrot",
          "Cauliflower",
          "Celery",
          "Collard",
          "Corn",
          "Cucumber",
          "Dandelion",
          "Dill",
          "Fennel",
          "Ginger",
          "Kale",
          "Mushroom",
          "Parsley",
          "Parsnip",
          "Pea",
          "Pepper",
          "Potato",
          "Pumpkin",
          "Radicchio",
          "Romaine Lettuce",
          "Soybean",
          "Spinach",
          "Squash",
          "Sweet Potato",
          "Swiss Chard",
          "Tomato",
          "Zucchini/Courgette",
          "Chicken",
          "Cheese",
          "Cottage Cheese",
          "Cricket",
          "Egg",
          "Grasshopper",
          "Lean Ground Beef",
          "Mealworm",
          "Salmon",
          "Tofu",
          "Turkey",
          "Yoghurt",
          "Almond",
          "Barley",
          "Black Eyed Pea",
          "Black Turtle Bean",
          "Buckwheat",
          "Bulgar Wheat",
          "Chickpea",
          "Chia Seed",
          "Couscous",
          "Farro",
          "Flax Seed",
          "Hemp Heart",
          "Lentil",
          "Millet",
          "Mung Bean",
          "Nutritional Yeast",
          "Oat Flake",
          "Pasta",
          "Peanut",
          "Popped Corn",
          "Pumpkin Seed",
          "Quinoa",
          "Rice",
          "Rye Flake",
          "Sesame Seed",
          "Split Pea",
          "Sunflower Seed",
          "Walnut",
          "Wheat Germ",
          "Blue Cheese, and other soft or mouldy cheese",
          "Chili Pepper",
          "Eggplant/Aubergine",
          "Kidney Bean",
          "Packaged Meat",
          "Raw, Green Potato",
          "Rhubarb Leave",
          "Avocado",
          "Chocolate",
          "Citrus Fruit",
          "Coriander/Cilantro/Mint",
          "Dairy Product",
          "Garlic",
          "Leek",
          "Onion",
          "Peanut Butter",
          "Raisin",
          "Watermelon"
         ],
         "labels": [
          "Fruits",
          "Vegetables",
          "Proteins",
          "Miscellaneous Foods",
          "Acai",
          "Apple",
          "Apricot",
          "Banana",
          "Blueberry",
          "Blackberry",
          "Boysenberry",
          "Cantaloupe",
          "Cherry",
          "Cranberry",
          "Currant",
          "Date",
          "Elderberry",
          "Fig",
          "Gooseberry",
          "Grape",
          "Guava",
          "Honeydew melon",
          "Kiwis",
          "Kumquat",
          "Lychee",
          "Mango",
          "Nectarine",
          "Papaya",
          "Passion fruit",
          "Peache",
          "Pear",
          "Pineapple",
          "Plum",
          "Pomegranate",
          "Raspberry",
          "Starfruit",
          "Strawberry",
          "Watermelon",
          "Amaranth",
          "Arrugula",
          "Artichoke",
          "Asparagus",
          "Basil",
          "Bean",
          "Beet",
          "Bok Choy",
          "Broccoli",
          "Brussels sprout",
          "Cabbage",
          "Carrot",
          "Cauliflower",
          "Celery",
          "Collard",
          "Corn",
          "Cucumber",
          "Dandelion",
          "Dill",
          "Fennel",
          "Ginger",
          "Kale",
          "Mushroom",
          "Parsley",
          "Parsnip",
          "Pea",
          "Pepper",
          "Potato",
          "Pumpkin",
          "Radicchio",
          "Romaine Lettuce",
          "Soybean",
          "Spinach",
          "Squash",
          "Sweet Potato",
          "Swiss Chard",
          "Tomato",
          "Zucchini/Courgette",
          "Chicken",
          "Cheese",
          "Cottage Cheese",
          "Cricket",
          "Egg",
          "Grasshopper",
          "Lean Ground Beef",
          "Mealworm",
          "Salmon",
          "Tofu",
          "Turkey",
          "Yoghurt",
          "Almond",
          "Barley",
          "Black Eyed Pea",
          "Black Turtle Bean",
          "Buckwheat",
          "Bulgar Wheat",
          "Chickpea",
          "Chia Seed",
          "Couscous",
          "Farro",
          "Flax Seed",
          "Hemp Heart",
          "Lentil",
          "Millet",
          "Mung Bean",
          "Nutritional Yeast",
          "Oat Flake",
          "Pasta",
          "Peanut",
          "Popped Corn",
          "Pumpkin Seed",
          "Quinoa",
          "Rice",
          "Rye Flake",
          "Sesame Seed",
          "Split Pea",
          "Sunflower Seed",
          "Walnut",
          "Wheat Germ",
          "Blue Cheese, and other soft or mouldy cheese",
          "Chili Pepper",
          "Eggplant/Aubergine",
          "Kidney Bean",
          "Packaged Meat",
          "Raw, Green Potato",
          "Rhubarb Leave",
          "Avocado",
          "Chocolate",
          "Citrus Fruit",
          "Coriander/Cilantro/Mint",
          "Dairy Product",
          "Garlic",
          "Leek",
          "Onion",
          "Peanut Butter",
          "Raisin",
          "Watermelon"
         ],
         "marker": {
          "colors": [
           "#FFE4B5",
           "#06402B",
           "#F0E68C",
           "#DDA0DD",
           "#90EE90",
           "#90EE90",
           "#90EE90",
           "#90EE90",
           "#90EE90",
           "#90EE90",
           "#90EE90",
           "#90EE90",
           "#90EE90",
           "#90EE90",
           "#90EE90",
           "#90EE90",
           "#90EE90",
           "#90EE90",
           "#90EE90",
           "#90EE90",
           "#90EE90",
           "#90EE90",
           "#90EE90",
           "#90EE90",
           "#90EE90",
           "#90EE90",
           "#90EE90",
           "#90EE90",
           "#90EE90",
           "#90EE90",
           "#90EE90",
           "#90EE90",
           "#90EE90",
           "#90EE90",
           "#90EE90",
           "#90EE90",
           "#90EE90",
           "#90EE90",
           "#90EE90",
           "#90EE90",
           "#90EE90",
           "#90EE90",
           "#90EE90",
           "#90EE90",
           "#90EE90",
           "#90EE90",
           "#90EE90",
           "#90EE90",
           "#90EE90",
           "#90EE90",
           "#90EE90",
           "#90EE90",
           "#90EE90",
           "#90EE90",
           "#90EE90",
           "#90EE90",
           "#90EE90",
           "#90EE90",
           "#90EE90",
           "#90EE90",
           "#90EE90",
           "#90EE90",
           "#90EE90",
           "#90EE90",
           "#90EE90",
           "#90EE90",
           "#90EE90",
           "#90EE90",
           "#90EE90",
           "#90EE90",
           "#90EE90",
           "#90EE90",
           "#90EE90",
           "#90EE90",
           "#90EE90",
           "#90EE90",
           "#90EE90",
           "#90EE90",
           "#90EE90",
           "#90EE90",
           "#90EE90",
           "#90EE90",
           "#90EE90",
           "#90EE90",
           "#90EE90",
           "#90EE90",
           "#90EE90",
           "#90EE90",
           "#90EE90",
           "#90EE90",
           "#90EE90",
           "#90EE90",
           "#90EE90",
           "#90EE90",
           "#90EE90",
           "#90EE90",
           "#90EE90",
           "#90EE90",
           "#90EE90",
           "#90EE90",
           "#90EE90",
           "#90EE90",
           "#90EE90",
           "#90EE90",
           "#90EE90",
           "#90EE90",
           "#90EE90",
           "#90EE90",
           "#90EE90",
           "#90EE90",
           "#90EE90",
           "#90EE90",
           "#90EE90",
           "#90EE90",
           "#90EE90",
           "#90EE90",
           "#90EE90",
           "#FFB6C1",
           "#FFB6C1",
           "#FFB6C1",
           "#FFB6C1",
           "#FFB6C1",
           "#FFB6C1",
           "#FFB6C1",
           "#90EE90",
           "#90EE90",
           "#90EE90",
           "#90EE90",
           "#90EE90",
           "#90EE90",
           "#90EE90",
           "#90EE90",
           "#90EE90",
           "#90EE90",
           "#90EE90"
          ],
          "line": {
           "color": "white",
           "width": 2
          }
         },
         "parents": [
          "",
          "",
          "",
          "",
          "Fruits",
          "Fruits",
          "Fruits",
          "Fruits",
          "Fruits",
          "Fruits",
          "Fruits",
          "Fruits",
          "Fruits",
          "Fruits",
          "Fruits",
          "Fruits",
          "Fruits",
          "Fruits",
          "Fruits",
          "Fruits",
          "Fruits",
          "Fruits",
          "Fruits",
          "Fruits",
          "Fruits",
          "Fruits",
          "Fruits",
          "Fruits",
          "Fruits",
          "Fruits",
          "Fruits",
          "Fruits",
          "Fruits",
          "Fruits",
          "Fruits",
          "Fruits",
          "Fruits",
          "Fruits",
          "Vegetables",
          "Vegetables",
          "Vegetables",
          "Vegetables",
          "Vegetables",
          "Vegetables",
          "Vegetables",
          "Vegetables",
          "Vegetables",
          "Vegetables",
          "Vegetables",
          "Vegetables",
          "Vegetables",
          "Vegetables",
          "Vegetables",
          "Vegetables",
          "Vegetables",
          "Vegetables",
          "Vegetables",
          "Vegetables",
          "Vegetables",
          "Vegetables",
          "Vegetables",
          "Vegetables",
          "Vegetables",
          "Vegetables",
          "Vegetables",
          "Vegetables",
          "Vegetables",
          "Vegetables",
          "Vegetables",
          "Vegetables",
          "Vegetables",
          "Vegetables",
          "Vegetables",
          "Vegetables",
          "Vegetables",
          "Vegetables",
          "Proteins",
          "Proteins",
          "Proteins",
          "Proteins",
          "Proteins",
          "Proteins",
          "Proteins",
          "Proteins",
          "Proteins",
          "Proteins",
          "Proteins",
          "Proteins",
          "Miscellaneous Foods",
          "Miscellaneous Foods",
          "Miscellaneous Foods",
          "Miscellaneous Foods",
          "Miscellaneous Foods",
          "Miscellaneous Foods",
          "Miscellaneous Foods",
          "Miscellaneous Foods",
          "Miscellaneous Foods",
          "Miscellaneous Foods",
          "Miscellaneous Foods",
          "Miscellaneous Foods",
          "Miscellaneous Foods",
          "Miscellaneous Foods",
          "Miscellaneous Foods",
          "Miscellaneous Foods",
          "Miscellaneous Foods",
          "Miscellaneous Foods",
          "Miscellaneous Foods",
          "Miscellaneous Foods",
          "Miscellaneous Foods",
          "Miscellaneous Foods",
          "Miscellaneous Foods",
          "Miscellaneous Foods",
          "Miscellaneous Foods",
          "Miscellaneous Foods",
          "Miscellaneous Foods",
          "Miscellaneous Foods",
          "Miscellaneous Foods",
          "Proteins",
          "Vegetables",
          "Fruits",
          "Miscellaneous Foods",
          "Proteins",
          "Vegetables",
          "Vegetables",
          "Fruits",
          "Miscellaneous Foods",
          "Fruits",
          "Miscellaneous Foods",
          "Miscellaneous Foods",
          "Miscellaneous Foods",
          "Vegetables",
          "Vegetables",
          "Miscellaneous Foods",
          "Fruits",
          "Fruits"
         ],
         "textfont": {
          "size": 12
         },
         "type": "treemap"
        }
       ],
       "layout": {
        "height": 600,
        "template": {
         "data": {
          "bar": [
           {
            "error_x": {
             "color": "#2a3f5f"
            },
            "error_y": {
             "color": "#2a3f5f"
            },
            "marker": {
             "line": {
              "color": "#E5ECF6",
              "width": 0.5
             },
             "pattern": {
              "fillmode": "overlay",
              "size": 10,
              "solidity": 0.2
             }
            },
            "type": "bar"
           }
          ],
          "barpolar": [
           {
            "marker": {
             "line": {
              "color": "#E5ECF6",
              "width": 0.5
             },
             "pattern": {
              "fillmode": "overlay",
              "size": 10,
              "solidity": 0.2
             }
            },
            "type": "barpolar"
           }
          ],
          "carpet": [
           {
            "aaxis": {
             "endlinecolor": "#2a3f5f",
             "gridcolor": "white",
             "linecolor": "white",
             "minorgridcolor": "white",
             "startlinecolor": "#2a3f5f"
            },
            "baxis": {
             "endlinecolor": "#2a3f5f",
             "gridcolor": "white",
             "linecolor": "white",
             "minorgridcolor": "white",
             "startlinecolor": "#2a3f5f"
            },
            "type": "carpet"
           }
          ],
          "choropleth": [
           {
            "colorbar": {
             "outlinewidth": 0,
             "ticks": ""
            },
            "type": "choropleth"
           }
          ],
          "contour": [
           {
            "colorbar": {
             "outlinewidth": 0,
             "ticks": ""
            },
            "colorscale": [
             [
              0,
              "#0d0887"
             ],
             [
              0.1111111111111111,
              "#46039f"
             ],
             [
              0.2222222222222222,
              "#7201a8"
             ],
             [
              0.3333333333333333,
              "#9c179e"
             ],
             [
              0.4444444444444444,
              "#bd3786"
             ],
             [
              0.5555555555555556,
              "#d8576b"
             ],
             [
              0.6666666666666666,
              "#ed7953"
             ],
             [
              0.7777777777777778,
              "#fb9f3a"
             ],
             [
              0.8888888888888888,
              "#fdca26"
             ],
             [
              1,
              "#f0f921"
             ]
            ],
            "type": "contour"
           }
          ],
          "contourcarpet": [
           {
            "colorbar": {
             "outlinewidth": 0,
             "ticks": ""
            },
            "type": "contourcarpet"
           }
          ],
          "heatmap": [
           {
            "colorbar": {
             "outlinewidth": 0,
             "ticks": ""
            },
            "colorscale": [
             [
              0,
              "#0d0887"
             ],
             [
              0.1111111111111111,
              "#46039f"
             ],
             [
              0.2222222222222222,
              "#7201a8"
             ],
             [
              0.3333333333333333,
              "#9c179e"
             ],
             [
              0.4444444444444444,
              "#bd3786"
             ],
             [
              0.5555555555555556,
              "#d8576b"
             ],
             [
              0.6666666666666666,
              "#ed7953"
             ],
             [
              0.7777777777777778,
              "#fb9f3a"
             ],
             [
              0.8888888888888888,
              "#fdca26"
             ],
             [
              1,
              "#f0f921"
             ]
            ],
            "type": "heatmap"
           }
          ],
          "histogram": [
           {
            "marker": {
             "pattern": {
              "fillmode": "overlay",
              "size": 10,
              "solidity": 0.2
             }
            },
            "type": "histogram"
           }
          ],
          "histogram2d": [
           {
            "colorbar": {
             "outlinewidth": 0,
             "ticks": ""
            },
            "colorscale": [
             [
              0,
              "#0d0887"
             ],
             [
              0.1111111111111111,
              "#46039f"
             ],
             [
              0.2222222222222222,
              "#7201a8"
             ],
             [
              0.3333333333333333,
              "#9c179e"
             ],
             [
              0.4444444444444444,
              "#bd3786"
             ],
             [
              0.5555555555555556,
              "#d8576b"
             ],
             [
              0.6666666666666666,
              "#ed7953"
             ],
             [
              0.7777777777777778,
              "#fb9f3a"
             ],
             [
              0.8888888888888888,
              "#fdca26"
             ],
             [
              1,
              "#f0f921"
             ]
            ],
            "type": "histogram2d"
           }
          ],
          "histogram2dcontour": [
           {
            "colorbar": {
             "outlinewidth": 0,
             "ticks": ""
            },
            "colorscale": [
             [
              0,
              "#0d0887"
             ],
             [
              0.1111111111111111,
              "#46039f"
             ],
             [
              0.2222222222222222,
              "#7201a8"
             ],
             [
              0.3333333333333333,
              "#9c179e"
             ],
             [
              0.4444444444444444,
              "#bd3786"
             ],
             [
              0.5555555555555556,
              "#d8576b"
             ],
             [
              0.6666666666666666,
              "#ed7953"
             ],
             [
              0.7777777777777778,
              "#fb9f3a"
             ],
             [
              0.8888888888888888,
              "#fdca26"
             ],
             [
              1,
              "#f0f921"
             ]
            ],
            "type": "histogram2dcontour"
           }
          ],
          "mesh3d": [
           {
            "colorbar": {
             "outlinewidth": 0,
             "ticks": ""
            },
            "type": "mesh3d"
           }
          ],
          "parcoords": [
           {
            "line": {
             "colorbar": {
              "outlinewidth": 0,
              "ticks": ""
             }
            },
            "type": "parcoords"
           }
          ],
          "pie": [
           {
            "automargin": true,
            "type": "pie"
           }
          ],
          "scatter": [
           {
            "fillpattern": {
             "fillmode": "overlay",
             "size": 10,
             "solidity": 0.2
            },
            "type": "scatter"
           }
          ],
          "scatter3d": [
           {
            "line": {
             "colorbar": {
              "outlinewidth": 0,
              "ticks": ""
             }
            },
            "marker": {
             "colorbar": {
              "outlinewidth": 0,
              "ticks": ""
             }
            },
            "type": "scatter3d"
           }
          ],
          "scattercarpet": [
           {
            "marker": {
             "colorbar": {
              "outlinewidth": 0,
              "ticks": ""
             }
            },
            "type": "scattercarpet"
           }
          ],
          "scattergeo": [
           {
            "marker": {
             "colorbar": {
              "outlinewidth": 0,
              "ticks": ""
             }
            },
            "type": "scattergeo"
           }
          ],
          "scattergl": [
           {
            "marker": {
             "colorbar": {
              "outlinewidth": 0,
              "ticks": ""
             }
            },
            "type": "scattergl"
           }
          ],
          "scattermap": [
           {
            "marker": {
             "colorbar": {
              "outlinewidth": 0,
              "ticks": ""
             }
            },
            "type": "scattermap"
           }
          ],
          "scattermapbox": [
           {
            "marker": {
             "colorbar": {
              "outlinewidth": 0,
              "ticks": ""
             }
            },
            "type": "scattermapbox"
           }
          ],
          "scatterpolar": [
           {
            "marker": {
             "colorbar": {
              "outlinewidth": 0,
              "ticks": ""
             }
            },
            "type": "scatterpolar"
           }
          ],
          "scatterpolargl": [
           {
            "marker": {
             "colorbar": {
              "outlinewidth": 0,
              "ticks": ""
             }
            },
            "type": "scatterpolargl"
           }
          ],
          "scatterternary": [
           {
            "marker": {
             "colorbar": {
              "outlinewidth": 0,
              "ticks": ""
             }
            },
            "type": "scatterternary"
           }
          ],
          "surface": [
           {
            "colorbar": {
             "outlinewidth": 0,
             "ticks": ""
            },
            "colorscale": [
             [
              0,
              "#0d0887"
             ],
             [
              0.1111111111111111,
              "#46039f"
             ],
             [
              0.2222222222222222,
              "#7201a8"
             ],
             [
              0.3333333333333333,
              "#9c179e"
             ],
             [
              0.4444444444444444,
              "#bd3786"
             ],
             [
              0.5555555555555556,
              "#d8576b"
             ],
             [
              0.6666666666666666,
              "#ed7953"
             ],
             [
              0.7777777777777778,
              "#fb9f3a"
             ],
             [
              0.8888888888888888,
              "#fdca26"
             ],
             [
              1,
              "#f0f921"
             ]
            ],
            "type": "surface"
           }
          ],
          "table": [
           {
            "cells": {
             "fill": {
              "color": "#EBF0F8"
             },
             "line": {
              "color": "white"
             }
            },
            "header": {
             "fill": {
              "color": "#C8D4E3"
             },
             "line": {
              "color": "white"
             }
            },
            "type": "table"
           }
          ]
         },
         "layout": {
          "annotationdefaults": {
           "arrowcolor": "#2a3f5f",
           "arrowhead": 0,
           "arrowwidth": 1
          },
          "autotypenumbers": "strict",
          "coloraxis": {
           "colorbar": {
            "outlinewidth": 0,
            "ticks": ""
           }
          },
          "colorscale": {
           "diverging": [
            [
             0,
             "#8e0152"
            ],
            [
             0.1,
             "#c51b7d"
            ],
            [
             0.2,
             "#de77ae"
            ],
            [
             0.3,
             "#f1b6da"
            ],
            [
             0.4,
             "#fde0ef"
            ],
            [
             0.5,
             "#f7f7f7"
            ],
            [
             0.6,
             "#e6f5d0"
            ],
            [
             0.7,
             "#b8e186"
            ],
            [
             0.8,
             "#7fbc41"
            ],
            [
             0.9,
             "#4d9221"
            ],
            [
             1,
             "#276419"
            ]
           ],
           "sequential": [
            [
             0,
             "#0d0887"
            ],
            [
             0.1111111111111111,
             "#46039f"
            ],
            [
             0.2222222222222222,
             "#7201a8"
            ],
            [
             0.3333333333333333,
             "#9c179e"
            ],
            [
             0.4444444444444444,
             "#bd3786"
            ],
            [
             0.5555555555555556,
             "#d8576b"
            ],
            [
             0.6666666666666666,
             "#ed7953"
            ],
            [
             0.7777777777777778,
             "#fb9f3a"
            ],
            [
             0.8888888888888888,
             "#fdca26"
            ],
            [
             1,
             "#f0f921"
            ]
           ],
           "sequentialminus": [
            [
             0,
             "#0d0887"
            ],
            [
             0.1111111111111111,
             "#46039f"
            ],
            [
             0.2222222222222222,
             "#7201a8"
            ],
            [
             0.3333333333333333,
             "#9c179e"
            ],
            [
             0.4444444444444444,
             "#bd3786"
            ],
            [
             0.5555555555555556,
             "#d8576b"
            ],
            [
             0.6666666666666666,
             "#ed7953"
            ],
            [
             0.7777777777777778,
             "#fb9f3a"
            ],
            [
             0.8888888888888888,
             "#fdca26"
            ],
            [
             1,
             "#f0f921"
            ]
           ]
          },
          "colorway": [
           "#636efa",
           "#EF553B",
           "#00cc96",
           "#ab63fa",
           "#FFA15A",
           "#19d3f3",
           "#FF6692",
           "#B6E880",
           "#FF97FF",
           "#FECB52"
          ],
          "font": {
           "color": "#2a3f5f"
          },
          "geo": {
           "bgcolor": "white",
           "lakecolor": "white",
           "landcolor": "#E5ECF6",
           "showlakes": true,
           "showland": true,
           "subunitcolor": "white"
          },
          "hoverlabel": {
           "align": "left"
          },
          "hovermode": "closest",
          "mapbox": {
           "style": "light"
          },
          "paper_bgcolor": "white",
          "plot_bgcolor": "#E5ECF6",
          "polar": {
           "angularaxis": {
            "gridcolor": "white",
            "linecolor": "white",
            "ticks": ""
           },
           "bgcolor": "#E5ECF6",
           "radialaxis": {
            "gridcolor": "white",
            "linecolor": "white",
            "ticks": ""
           }
          },
          "scene": {
           "xaxis": {
            "backgroundcolor": "#E5ECF6",
            "gridcolor": "white",
            "gridwidth": 2,
            "linecolor": "white",
            "showbackground": true,
            "ticks": "",
            "zerolinecolor": "white"
           },
           "yaxis": {
            "backgroundcolor": "#E5ECF6",
            "gridcolor": "white",
            "gridwidth": 2,
            "linecolor": "white",
            "showbackground": true,
            "ticks": "",
            "zerolinecolor": "white"
           },
           "zaxis": {
            "backgroundcolor": "#E5ECF6",
            "gridcolor": "white",
            "gridwidth": 2,
            "linecolor": "white",
            "showbackground": true,
            "ticks": "",
            "zerolinecolor": "white"
           }
          },
          "shapedefaults": {
           "line": {
            "color": "#2a3f5f"
           }
          },
          "ternary": {
           "aaxis": {
            "gridcolor": "white",
            "linecolor": "white",
            "ticks": ""
           },
           "baxis": {
            "gridcolor": "white",
            "linecolor": "white",
            "ticks": ""
           },
           "bgcolor": "#E5ECF6",
           "caxis": {
            "gridcolor": "white",
            "linecolor": "white",
            "ticks": ""
           }
          },
          "title": {
           "x": 0.05
          },
          "xaxis": {
           "automargin": true,
           "gridcolor": "white",
           "linecolor": "white",
           "ticks": "",
           "title": {
            "standoff": 15
           },
           "zerolinecolor": "white",
           "zerolinewidth": 2
          },
          "yaxis": {
           "automargin": true,
           "gridcolor": "white",
           "linecolor": "white",
           "ticks": "",
           "title": {
            "standoff": 15
           },
           "zerolinecolor": "white",
           "zerolinewidth": 2
          }
         }
        },
        "title": {
         "text": "Hamster Food Safety"
        }
       }
      },
      "image/png": "[encoded data removed]"
     },
     "metadata": {},
     "output_type": "display_data"
    }
   ],
   "source": [
    "#Visualization\n",
    "treemap_df = df.copy()\n",
    "treemap_df['safety_status'] = treemap_df['safe'].map({True:'Safe', False: 'Unsafe'})\n",
    "\n",
    "type_colors = {\n",
    "    'Fruits': '#FFE4B5',           # Moccasin\n",
    "    'Vegetables': '#06402B',       # DarkGreen  \n",
    "    'Proteins': '#F0E68C',         # Khaki\n",
    "    'Miscellaneous Foods': '#DDA0DD'  # Plum\n",
    "}\n",
    "\n",
    "ids = []\n",
    "labels = []\n",
    "parents = []\n",
    "colors = []\n",
    "hover_text = []\n",
    "for foodType in treemap_df['type'].unique():\n",
    "    ids.append(foodType)\n",
    "    labels.append(foodType)\n",
    "    parents.append(\"\")\n",
    "    colors.append(type_colors[foodType])\n",
    "\n",
    "for _, row in treemap_df.iterrows():\n",
    "    ids.append(row['food'])\n",
    "    labels.append(row['food'])\n",
    "    parents.append(row['type'])\n",
    "    colors.append('#90EE90' if row['safe'] else '#FFB6C1')\n",
    "    hover_info = f\"Food: {row['food']} <br> Safe: {row['safe']}<br>Controversial: {row['controversial']}<br>Notes: {row['notes']}\"\n",
    "    hover_text.append(hover_info)\n",
    "fig = go.Figure(go.Treemap(\n",
    "    ids = ids,\n",
    "    labels = labels,\n",
    "    parents = parents,\n",
    "    marker_colors = colors,\n",
    "    textfont_size = 12,\n",
    "    marker_line = dict(width=2, color = 'white'),\n",
    "    hovertext = hover_text,\n",
    "    hovertemplate = '%{hovertext}<extra></extra>'\n",
    "))\n",
    "fig.update_layout(title=\"Hamster Food Safety\", height=600)\n",
    "\n",
    "fig.show()"
   ]
  },
  {
   "cell_type": "code",
   "execution_count": null,
   "id": "9ef5749d-ea2f-4f29-96e9-c5d06fe9526d",
   "metadata": {},
   "outputs": [],
   "source": []
  }
 ],
 "metadata": {
  "kernelspec": {
   "display_name": "Python 3 (ipykernel)",
   "language": "python",
   "name": "python3"
  },
  "language_info": {
   "codemirror_mode": {
    "name": "ipython",
    "version": 3
   },
   "file_extension": ".py",
   "mimetype": "text/x-python",
   "name": "python",
   "nbconvert_exporter": "python",
   "pygments_lexer": "ipython3",
   "version": "3.13.1"
  }
 },
 "nbformat": 4,
 "nbformat_minor": 5
}
