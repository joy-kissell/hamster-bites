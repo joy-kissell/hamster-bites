{
 "cells": [
  {
   "cell_type": "code",
   "execution_count": 3,
   "id": "e53e3029-8dbe-4822-bb73-27be17df8948",
   "metadata": {},
   "outputs": [],
   "source": [
    "import pandas as pd\n",
    "import matplotlib.pyplot as plt\n",
    "import seaborn as sns\n",
    "import plotly.express as px\n",
    "import plotly.graph_objects as go\n",
    "from plotly.subplots import make_subplots\n",
    "\n",
    "plt.style.use('seaborn-v0_8')\n",
    "sns.set_palette(\"husl\")\n",
    "\n",
    "# Display all columns\n",
    "pd.set_option('display.max_columns', None)"
   ]
  },
  {
   "cell_type": "code",
   "execution_count": 4,
   "id": "c1af1c2a-00f5-4a8c-a67a-c79b443e3b52",
   "metadata": {},
   "outputs": [
    {
     "name": "stdout",
     "output_type": "stream",
     "text": [
      "Dataset shape: (131, 5)\n",
      "\n",
      "Data types:\n",
      "food             object\n",
      "type             object\n",
      "safe               bool\n",
      "controversial      bool\n",
      "notes            object\n",
      "dtype: object\n",
      "\n",
      "First entries:\n"
     ]
    },
    {
     "data": {
      "text/html": [
       "<div>\n",
       "<style scoped>\n",
       "    .dataframe tbody tr th:only-of-type {\n",
       "        vertical-align: middle;\n",
       "    }\n",
       "\n",
       "    .dataframe tbody tr th {\n",
       "        vertical-align: top;\n",
       "    }\n",
       "\n",
       "    .dataframe thead th {\n",
       "        text-align: right;\n",
       "    }\n",
       "</style>\n",
       "<table border=\"1\" class=\"dataframe\">\n",
       "  <thead>\n",
       "    <tr style=\"text-align: right;\">\n",
       "      <th></th>\n",
       "      <th>food</th>\n",
       "      <th>type</th>\n",
       "      <th>safe</th>\n",
       "      <th>controversial</th>\n",
       "      <th>notes</th>\n",
       "    </tr>\n",
       "  </thead>\n",
       "  <tbody>\n",
       "    <tr>\n",
       "      <th>0</th>\n",
       "      <td>Acai</td>\n",
       "      <td>Fruits</td>\n",
       "      <td>True</td>\n",
       "      <td>False</td>\n",
       "      <td>prepared any way</td>\n",
       "    </tr>\n",
       "    <tr>\n",
       "      <th>1</th>\n",
       "      <td>Apple</td>\n",
       "      <td>Fruits</td>\n",
       "      <td>True</td>\n",
       "      <td>False</td>\n",
       "      <td>prepared any way</td>\n",
       "    </tr>\n",
       "    <tr>\n",
       "      <th>2</th>\n",
       "      <td>Apricot</td>\n",
       "      <td>Fruits</td>\n",
       "      <td>True</td>\n",
       "      <td>False</td>\n",
       "      <td>prepared any way</td>\n",
       "    </tr>\n",
       "    <tr>\n",
       "      <th>3</th>\n",
       "      <td>Banana</td>\n",
       "      <td>Fruits</td>\n",
       "      <td>True</td>\n",
       "      <td>False</td>\n",
       "      <td>prepared any way</td>\n",
       "    </tr>\n",
       "    <tr>\n",
       "      <th>4</th>\n",
       "      <td>Blueberry</td>\n",
       "      <td>Fruits</td>\n",
       "      <td>True</td>\n",
       "      <td>False</td>\n",
       "      <td>prepared any way</td>\n",
       "    </tr>\n",
       "  </tbody>\n",
       "</table>\n",
       "</div>"
      ],
      "text/plain": [
       "        food    type  safe  controversial             notes\n",
       "0       Acai  Fruits  True          False  prepared any way\n",
       "1      Apple  Fruits  True          False  prepared any way\n",
       "2    Apricot  Fruits  True          False  prepared any way\n",
       "3     Banana  Fruits  True          False  prepared any way\n",
       "4  Blueberry  Fruits  True          False  prepared any way"
      ]
     },
     "execution_count": 4,
     "metadata": {},
     "output_type": "execute_result"
    }
   ],
   "source": [
    "df = pd.read_csv('../data/clean_hamster_foods.csv')\n",
    "#key info\n",
    "print(f\"Dataset shape: {df.shape}\")\n",
    "print(f\"\\nData types:\")\n",
    "print(df.dtypes)\n",
    "print(f\"\\nFirst entries:\")\n",
    "df.head()"
   ]
  },
  {
   "cell_type": "code",
   "execution_count": 18,
   "id": "a5d609b8-678f-4fa9-ace6-bbc9370e5a61",
   "metadata": {},
   "outputs": [
    {
     "name": "stdout",
     "output_type": "stream",
     "text": [
      "=== Hamster Bites Quick Stats ===\n",
      "\n",
      "Total foods in database: 131\n",
      "Safe foods: 124 (94.7%)\n",
      "Dangerous foods: 7 (5.3%)\n",
      "Controversial foods: 15 (11.5%)\n",
      "Food Types: type\n",
      "Vegetables             43\n",
      "Fruits                 39\n",
      "Miscellaneous Foods    35\n",
      "Proteins               14\n",
      "Name: count, dtype: int64\n",
      "Type with most controversial foods: Miscellaneous Foods\n",
      "Type with most dangerous foods: Vegetables\n"
     ]
    }
   ],
   "source": [
    "#Basic Statistics\n",
    "print(\"=== Hamster Bites Quick Stats ===\\n\")\n",
    "print(f\"Total foods in database: {len(df)}\")\n",
    "print(f\"Safe foods: {df['safe'].sum()} ({df['safe'].mean()*100:.1f}%)\")\n",
    "print(f\"Dangerous foods: {(~df['safe']).sum()} ({(~df['safe']).mean()*100:.1f}%)\")\n",
    "print(f\"Controversial foods: {df['controversial'].sum()} ({df['controversial'].mean()*100:.1f}%)\")\n",
    "print(f\"Food Types: {df['type'].value_counts()}\")\n",
    "print(f\"Type with most controversial foods: {df.groupby('type')['controversial'].sum().idxmax()}\")\n",
    "print(f\"Type with most dangerous foods: {df[~df['safe']]['type'].value_counts().index[0]}\")"
   ]
  },
  {
   "cell_type": "code",
   "execution_count": 19,
   "id": "08d4def5-2763-4c65-a821-320c88d504a6",
   "metadata": {},
   "outputs": [
    {
     "ename": "ValueError",
     "evalue": "\nImage export using the \"kaleido\" engine requires the Kaleido package,\nwhich can be installed using pip:\n\n    $ pip install --upgrade kaleido\n",
     "output_type": "error",
     "traceback": [
      "\u001b[31m---------------------------------------------------------------------------\u001b[39m",
      "\u001b[31mValueError\u001b[39m                                Traceback (most recent call last)",
      "\u001b[36mCell\u001b[39m\u001b[36m \u001b[39m\u001b[32mIn[19]\u001b[39m\u001b[32m, line 45\u001b[39m\n\u001b[32m     42\u001b[39m os.makedirs(\u001b[33m'\u001b[39m\u001b[33m../images\u001b[39m\u001b[33m'\u001b[39m, exist_ok=\u001b[38;5;28;01mTrue\u001b[39;00m)\n\u001b[32m     44\u001b[39m \u001b[38;5;66;03m# for README\u001b[39;00m\n\u001b[32m---> \u001b[39m\u001b[32m45\u001b[39m \u001b[43mfig\u001b[49m\u001b[43m.\u001b[49m\u001b[43mwrite_image\u001b[49m\u001b[43m(\u001b[49m\u001b[33;43m\"\u001b[39;49m\u001b[33;43m../images/hamster_food_treemap.png\u001b[39;49m\u001b[33;43m\"\u001b[39;49m\u001b[43m,\u001b[49m\u001b[43m \u001b[49m\u001b[43mwidth\u001b[49m\u001b[43m=\u001b[49m\u001b[32;43m1200\u001b[39;49m\u001b[43m,\u001b[49m\u001b[43m \u001b[49m\u001b[43mheight\u001b[49m\u001b[43m=\u001b[49m\u001b[32;43m800\u001b[39;49m\u001b[43m)\u001b[49m\n\u001b[32m     47\u001b[39m \u001b[38;5;66;03m# for interactive treemap\u001b[39;00m\n\u001b[32m     48\u001b[39m fig.write_html(\u001b[33m\"\u001b[39m\u001b[33m../images/hamster_food_treemap.html\u001b[39m\u001b[33m\"\u001b[39m)\n",
      "\u001b[36mFile \u001b[39m\u001b[32mc:\\Users\\joyki\\Documents\\Documents\\DS Projects\\.venv\\Lib\\site-packages\\plotly\\basedatatypes.py:3895\u001b[39m, in \u001b[36mBaseFigure.write_image\u001b[39m\u001b[34m(self, *args, **kwargs)\u001b[39m\n\u001b[32m   3891\u001b[39m     \u001b[38;5;28;01mif\u001b[39;00m kwargs.get(\u001b[33m\"\u001b[39m\u001b[33mengine\u001b[39m\u001b[33m\"\u001b[39m, \u001b[38;5;28;01mNone\u001b[39;00m):\n\u001b[32m   3892\u001b[39m         warnings.warn(\n\u001b[32m   3893\u001b[39m             ENGINE_PARAM_DEPRECATION_MSG, \u001b[38;5;167;01mDeprecationWarning\u001b[39;00m, stacklevel=\u001b[32m2\u001b[39m\n\u001b[32m   3894\u001b[39m         )\n\u001b[32m-> \u001b[39m\u001b[32m3895\u001b[39m \u001b[38;5;28;01mreturn\u001b[39;00m \u001b[43mpio\u001b[49m\u001b[43m.\u001b[49m\u001b[43mwrite_image\u001b[49m\u001b[43m(\u001b[49m\u001b[38;5;28;43mself\u001b[39;49m\u001b[43m,\u001b[49m\u001b[43m \u001b[49m\u001b[43m*\u001b[49m\u001b[43margs\u001b[49m\u001b[43m,\u001b[49m\u001b[43m \u001b[49m\u001b[43m*\u001b[49m\u001b[43m*\u001b[49m\u001b[43mkwargs\u001b[49m\u001b[43m)\u001b[49m\n",
      "\u001b[36mFile \u001b[39m\u001b[32mc:\\Users\\joyki\\Documents\\Documents\\DS Projects\\.venv\\Lib\\site-packages\\plotly\\io\\_kaleido.py:510\u001b[39m, in \u001b[36mwrite_image\u001b[39m\u001b[34m(fig, file, format, scale, width, height, validate, engine)\u001b[39m\n\u001b[32m    506\u001b[39m \u001b[38;5;28mformat\u001b[39m = infer_format(path, \u001b[38;5;28mformat\u001b[39m)\n\u001b[32m    508\u001b[39m \u001b[38;5;66;03m# Request image\u001b[39;00m\n\u001b[32m    509\u001b[39m \u001b[38;5;66;03m# Do this first so we don't create a file if image conversion fails\u001b[39;00m\n\u001b[32m--> \u001b[39m\u001b[32m510\u001b[39m img_data = \u001b[43mto_image\u001b[49m\u001b[43m(\u001b[49m\n\u001b[32m    511\u001b[39m \u001b[43m    \u001b[49m\u001b[43mfig\u001b[49m\u001b[43m,\u001b[49m\n\u001b[32m    512\u001b[39m \u001b[43m    \u001b[49m\u001b[38;5;28;43mformat\u001b[39;49m\u001b[43m=\u001b[49m\u001b[38;5;28;43mformat\u001b[39;49m\u001b[43m,\u001b[49m\n\u001b[32m    513\u001b[39m \u001b[43m    \u001b[49m\u001b[43mscale\u001b[49m\u001b[43m=\u001b[49m\u001b[43mscale\u001b[49m\u001b[43m,\u001b[49m\n\u001b[32m    514\u001b[39m \u001b[43m    \u001b[49m\u001b[43mwidth\u001b[49m\u001b[43m=\u001b[49m\u001b[43mwidth\u001b[49m\u001b[43m,\u001b[49m\n\u001b[32m    515\u001b[39m \u001b[43m    \u001b[49m\u001b[43mheight\u001b[49m\u001b[43m=\u001b[49m\u001b[43mheight\u001b[49m\u001b[43m,\u001b[49m\n\u001b[32m    516\u001b[39m \u001b[43m    \u001b[49m\u001b[43mvalidate\u001b[49m\u001b[43m=\u001b[49m\u001b[43mvalidate\u001b[49m\u001b[43m,\u001b[49m\n\u001b[32m    517\u001b[39m \u001b[43m    \u001b[49m\u001b[43mengine\u001b[49m\u001b[43m=\u001b[49m\u001b[43mengine\u001b[49m\u001b[43m,\u001b[49m\n\u001b[32m    518\u001b[39m \u001b[43m\u001b[49m\u001b[43m)\u001b[49m\n\u001b[32m    520\u001b[39m \u001b[38;5;66;03m# Open file\u001b[39;00m\n\u001b[32m    521\u001b[39m \u001b[38;5;28;01mif\u001b[39;00m path \u001b[38;5;129;01mis\u001b[39;00m \u001b[38;5;28;01mNone\u001b[39;00m:\n\u001b[32m    522\u001b[39m     \u001b[38;5;66;03m# We previously failed to make sense of `file` as a pathlib object.\u001b[39;00m\n\u001b[32m    523\u001b[39m     \u001b[38;5;66;03m# Attempt to write to `file` as an open file descriptor.\u001b[39;00m\n",
      "\u001b[36mFile \u001b[39m\u001b[32mc:\\Users\\joyki\\Documents\\Documents\\DS Projects\\.venv\\Lib\\site-packages\\plotly\\io\\_kaleido.py:345\u001b[39m, in \u001b[36mto_image\u001b[39m\u001b[34m(fig, format, width, height, scale, validate, engine)\u001b[39m\n\u001b[32m    343\u001b[39m     \u001b[38;5;66;03m# Raise informative error message if Kaleido is not installed\u001b[39;00m\n\u001b[32m    344\u001b[39m     \u001b[38;5;28;01mif\u001b[39;00m \u001b[38;5;129;01mnot\u001b[39;00m kaleido_available():\n\u001b[32m--> \u001b[39m\u001b[32m345\u001b[39m         \u001b[38;5;28;01mraise\u001b[39;00m \u001b[38;5;167;01mValueError\u001b[39;00m(\n\u001b[32m    346\u001b[39m \u001b[38;5;250m            \u001b[39m\u001b[33;03m\"\"\"\u001b[39;00m\n\u001b[32m    347\u001b[39m \u001b[33;03mImage export using the \"kaleido\" engine requires the Kaleido package,\u001b[39;00m\n\u001b[32m    348\u001b[39m \u001b[33;03mwhich can be installed using pip:\u001b[39;00m\n\u001b[32m    349\u001b[39m \n\u001b[32m    350\u001b[39m \u001b[33;03m    $ pip install --upgrade kaleido\u001b[39;00m\n\u001b[32m    351\u001b[39m \u001b[33;03m\"\"\"\u001b[39;00m\n\u001b[32m    352\u001b[39m         )\n\u001b[32m    354\u001b[39m     \u001b[38;5;66;03m# Convert figure to dict (and validate if requested)\u001b[39;00m\n\u001b[32m    355\u001b[39m     fig_dict = validate_coerce_fig_to_dict(fig, validate)\n",
      "\u001b[31mValueError\u001b[39m: \nImage export using the \"kaleido\" engine requires the Kaleido package,\nwhich can be installed using pip:\n\n    $ pip install --upgrade kaleido\n"
     ]
    }
   ],
   "source": [
    "#Visualization\n",
    "treemap_df = df.copy()\n",
    "treemap_df['safety_status'] = treemap_df['safe'].map({True:'Safe', False: 'Unsafe'})\n",
    "\n",
    "type_colors = {\n",
    "    'Fruits': '#FFE4B5',           # Moccasin\n",
    "    'Vegetables': '#2E6F40',       # ForestGreen  \n",
    "    'Proteins': '#F0E68C',         # Khaki\n",
    "    'Miscellaneous Foods': '#DDA0DD'  # Plum\n",
    "}\n",
    "\n",
    "ids = []\n",
    "labels = []\n",
    "parents = []\n",
    "colors = []\n",
    "hover_text = []\n",
    "for foodType in treemap_df['type'].unique():\n",
    "    ids.append(foodType)\n",
    "    labels.append(foodType)\n",
    "    parents.append(\"\")\n",
    "    colors.append(type_colors[foodType])\n",
    "\n",
    "for _, row in treemap_df.iterrows():\n",
    "    ids.append(row['food'])\n",
    "    labels.append(row['food'])\n",
    "    parents.append(row['type'])\n",
    "    colors.append('#90EE90' if row['safe'] else '#FFB6C1')\n",
    "    hover_info = f\"Food: {row['food']} <br> Safe: {row['safe']}<br>Controversial: {row['controversial']}<br>Notes: {row['notes']}\"\n",
    "    hover_text.append(hover_info)\n",
    "fig = go.Figure(go.Treemap(\n",
    "    ids = ids,\n",
    "    labels = labels,\n",
    "    parents = parents,\n",
    "    marker_colors = colors,\n",
    "    textfont_size = 12,\n",
    "    marker_line = dict(width=2, color = 'white'),\n",
    "    hovertext = hover_text,\n",
    "    hovertemplate = '%{hovertext}<extra></extra>'\n",
    "))\n",
    "fig.update_layout(title=\"Hamster Food Safety\", height=600)\n",
    "import os\n",
    "os.makedirs('../images', exist_ok=True)\n",
    "\n",
    "# for README\n",
    "fig.write_image(\"../images/hamster_food_treemap.png\", width=1200, height=800)\n",
    "\n",
    "# for interactive treemap\n",
    "fig.write_html(\"../images/hamster_food_treemap.html\")\n",
    "\n",
    "fig.show()"
   ]
  },
  {
   "cell_type": "code",
   "execution_count": null,
   "id": "edcb7910-93d7-40bb-8878-c104e732357b",
   "metadata": {},
   "outputs": [],
   "source": []
  }
 ],
 "metadata": {
  "kernelspec": {
   "display_name": "Python 3 (ipykernel)",
   "language": "python",
   "name": "python3"
  },
  "language_info": {
   "codemirror_mode": {
    "name": "ipython",
    "version": 3
   },
   "file_extension": ".py",
   "mimetype": "text/x-python",
   "name": "python",
   "nbconvert_exporter": "python",
   "pygments_lexer": "ipython3",
   "version": "3.13.1"
  }
 },
 "nbformat": 4,
 "nbformat_minor": 5
}
