{
 "cells": [
  {
   "cell_type": "code",
   "execution_count": 1,
   "id": "e53e3029-8dbe-4822-bb73-27be17df8948",
   "metadata": {},
   "outputs": [],
   "source": [
    "import pandas as pd\n",
    "import matplotlib.pyplot as plt\n",
    "import seaborn as sns\n",
    "import plotly.express as px\n",
    "import plotly.graph_objects as go\n",
    "from plotly.subplots import make_subplots\n",
    "\n",
    "plt.style.use('seaborn-v0_8')\n",
    "sns.set_palette(\"husl\")\n",
    "\n",
    "# Display all columns\n",
    "pd.set_option('display.max_columns', None)"
   ]
  },
  {
   "cell_type": "code",
   "execution_count": 2,
   "id": "c1af1c2a-00f5-4a8c-a67a-c79b443e3b52",
   "metadata": {},
   "outputs": [
    {
     "name": "stdout",
     "output_type": "stream",
     "text": [
      "Dataset shape: (131, 5)\n",
      "\n",
      "Data types:\n",
      "food             object\n",
      "type             object\n",
      "safe               bool\n",
      "controversial      bool\n",
      "notes            object\n",
      "dtype: object\n",
      "\n",
      "First entries:\n"
     ]
    },
    {
     "data": {
      "text/html": [
       "<div>\n",
       "<style scoped>\n",
       "    .dataframe tbody tr th:only-of-type {\n",
       "        vertical-align: middle;\n",
       "    }\n",
       "\n",
       "    .dataframe tbody tr th {\n",
       "        vertical-align: top;\n",
       "    }\n",
       "\n",
       "    .dataframe thead th {\n",
       "        text-align: right;\n",
       "    }\n",
       "</style>\n",
       "<table border=\"1\" class=\"dataframe\">\n",
       "  <thead>\n",
       "    <tr style=\"text-align: right;\">\n",
       "      <th></th>\n",
       "      <th>food</th>\n",
       "      <th>type</th>\n",
       "      <th>safe</th>\n",
       "      <th>controversial</th>\n",
       "      <th>notes</th>\n",
       "    </tr>\n",
       "  </thead>\n",
       "  <tbody>\n",
       "    <tr>\n",
       "      <th>0</th>\n",
       "      <td>Acai</td>\n",
       "      <td>Fruits</td>\n",
       "      <td>True</td>\n",
       "      <td>False</td>\n",
       "      <td>prepared any way</td>\n",
       "    </tr>\n",
       "    <tr>\n",
       "      <th>1</th>\n",
       "      <td>Apple</td>\n",
       "      <td>Fruits</td>\n",
       "      <td>True</td>\n",
       "      <td>False</td>\n",
       "      <td>prepared any way</td>\n",
       "    </tr>\n",
       "    <tr>\n",
       "      <th>2</th>\n",
       "      <td>Apricot</td>\n",
       "      <td>Fruits</td>\n",
       "      <td>True</td>\n",
       "      <td>False</td>\n",
       "      <td>prepared any way</td>\n",
       "    </tr>\n",
       "    <tr>\n",
       "      <th>3</th>\n",
       "      <td>Banana</td>\n",
       "      <td>Fruits</td>\n",
       "      <td>True</td>\n",
       "      <td>False</td>\n",
       "      <td>prepared any way</td>\n",
       "    </tr>\n",
       "    <tr>\n",
       "      <th>4</th>\n",
       "      <td>Blueberry</td>\n",
       "      <td>Fruits</td>\n",
       "      <td>True</td>\n",
       "      <td>False</td>\n",
       "      <td>prepared any way</td>\n",
       "    </tr>\n",
       "  </tbody>\n",
       "</table>\n",
       "</div>"
      ],
      "text/plain": [
       "        food    type  safe  controversial             notes\n",
       "0       Acai  Fruits  True          False  prepared any way\n",
       "1      Apple  Fruits  True          False  prepared any way\n",
       "2    Apricot  Fruits  True          False  prepared any way\n",
       "3     Banana  Fruits  True          False  prepared any way\n",
       "4  Blueberry  Fruits  True          False  prepared any way"
      ]
     },
     "execution_count": 2,
     "metadata": {},
     "output_type": "execute_result"
    }
   ],
   "source": [
    "df = pd.read_csv('../data/clean_hamster_foods.csv')\n",
    "#key info\n",
    "print(f\"Dataset shape: {df.shape}\")\n",
    "print(f\"\\nData types:\")\n",
    "print(df.dtypes)\n",
    "print(f\"\\nFirst entries:\")\n",
    "df.head()"
   ]
  },
  {
   "cell_type": "code",
   "execution_count": 18,
   "id": "a5d609b8-678f-4fa9-ace6-bbc9370e5a61",
   "metadata": {},
   "outputs": [
    {
     "name": "stdout",
     "output_type": "stream",
     "text": [
      "=== Hamster Bites Quick Stats ===\n",
      "\n",
      "Total foods in database: 131\n",
      "Safe foods: 124 (94.7%)\n",
      "Dangerous foods: 7 (5.3%)\n",
      "Controversial foods: 15 (11.5%)\n",
      "Food Types: type\n",
      "Vegetables             43\n",
      "Fruits                 39\n",
      "Miscellaneous Foods    35\n",
      "Proteins               14\n",
      "Name: count, dtype: int64\n",
      "Type with most controversial foods: Miscellaneous Foods\n",
      "Type with most dangerous foods: Vegetables\n"
     ]
    }
   ],
   "source": [
    "#Basic Statistics\n",
    "print(\"=== Hamster Bites Quick Stats ===\\n\")\n",
    "print(f\"Total foods in database: {len(df)}\")\n",
    "print(f\"Safe foods: {df['safe'].sum()} ({df['safe'].mean()*100:.1f}%)\")\n",
    "print(f\"Dangerous foods: {(~df['safe']).sum()} ({(~df['safe']).mean()*100:.1f}%)\")\n",
    "print(f\"Controversial foods: {df['controversial'].sum()} ({df['controversial'].mean()*100:.1f}%)\")\n",
    "print(f\"Food Types: {df['type'].value_counts()}\")\n",
    "print(f\"Type with most controversial foods: {df.groupby('type')['controversial'].sum().idxmax()}\")\n",
    "print(f\"Type with most dangerous foods: {df[~df['safe']]['type'].value_counts().index[0]}\")"
   ]
  },
  {
   "cell_type": "code",
   "execution_count": null,
   "id": "08d4def5-2763-4c65-a821-320c88d504a6",
   "metadata": {},
   "outputs": [],
   "source": [
    "#Visualization"
   ]
  }
 ],
 "metadata": {
  "kernelspec": {
   "display_name": "Python 3 (ipykernel)",
   "language": "python",
   "name": "python3"
  },
  "language_info": {
   "codemirror_mode": {
    "name": "ipython",
    "version": 3
   },
   "file_extension": ".py",
   "mimetype": "text/x-python",
   "name": "python",
   "nbconvert_exporter": "python",
   "pygments_lexer": "ipython3",
   "version": "3.13.1"
  }
 },
 "nbformat": 4,
 "nbformat_minor": 5
}
